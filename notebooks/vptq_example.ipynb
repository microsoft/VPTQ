{
  "cells": [
    {
      "cell_type": "markdown",
      "metadata": {
        "id": "2EQJwCwerYjm"
      },
      "source": [
        "## VPTQ inference example\n",
        "\n",
        "<a target=\"_blank\" href=\"https://colab.research.google.com/github/microsoft/VPTQ/blob/main/notebooks/vptq_example.ipynb\">\n",
        "<img src=\"https://colab.research.google.com/assets/colab-badge.svg\" alt=\"Open In Colab\"/>\n",
        "</a>"
      ]
    },
    {
      "cell_type": "markdown",
      "source": [
        "## Install VPTQ package and requirements\n",
        "The latest transformers and accelerate is essential."
      ],
      "metadata": {
        "id": "Do2VPIj93_EE"
      }
    },
    {
      "cell_type": "code",
      "execution_count": null,
      "metadata": {
        "id": "bEMhWy_1rehw"
      },
      "outputs": [],
      "source": [
        "%%capture\n",
        "!pip install https://github.com/microsoft/VPTQ/releases/download/v0.0.2/vptq-0.0.2-cp310-cp310-manylinux1_x86_64.whl\n",
        "!pip install -U transformers accelerate\n"
      ]
    },
    {
      "cell_type": "markdown",
      "metadata": {
        "id": "Xb8ppLd-tuFs"
      },
      "source": [
        "## Load model and tokenizer as usual\n",
        "Note that T4-GPU does not support bf16,\n",
        "\n",
        "Set `dtype = torch.half` for this model\n",
        "\n",
        "Set `device_map='auto'` to load the model on GPU on priority."
      ]
    },
    {
      "cell_type": "code",
      "execution_count": 8,
      "metadata": {
        "colab": {
          "base_uri": "https://localhost:8080/",
          "height": 121,
          "referenced_widgets": [
            "b19fd7475a9a4ff78387e55e102d70d7",
            "9983dd28235948808ea7f893a8dd8e38",
            "81458c21349d4ec4b78cd4bd77d81010",
            "1f9811fac71a43ff97fd6fa5a751ff55",
            "f1549ea8ee0649c899568a4a364762ba",
            "2acf41455ccc4ab6ac1ef310976b2eff",
            "014f974a068a41e2a8ee4efa6574ce01",
            "f7d3edf25e844d51b993ef3eb3f95b1d",
            "cdd40ba6109a401592f1c3df004908b6",
            "ba602363b88f45ffb302a6cc5da0b57d",
            "27e99e0950e949c186656def4d1a6f6f"
          ]
        },
        "collapsed": true,
        "id": "1Ka7jGb-rqC6",
        "outputId": "20bae837-135a-4878-9b30-d36719e60d2a"
      },
      "outputs": [
        {
          "output_type": "stream",
          "name": "stderr",
          "text": [
            "Replacing linear layers...: 100%|██████████| 399/399 [00:00<00:00, 1325.70it/s]\n"
          ]
        },
        {
          "output_type": "display_data",
          "data": {
            "text/plain": [
              "Fetching 11 files:   0%|          | 0/11 [00:00<?, ?it/s]"
            ],
            "application/vnd.jupyter.widget-view+json": {
              "version_major": 2,
              "version_minor": 0,
              "model_id": "b19fd7475a9a4ff78387e55e102d70d7"
            }
          },
          "metadata": {}
        },
        {
          "output_type": "stream",
          "name": "stderr",
          "text": [
            "/usr/local/lib/python3.10/dist-packages/accelerate/utils/modeling.py:1589: FutureWarning: You are using `torch.load` with `weights_only=False` (the current default value), which uses the default pickle module implicitly. It is possible to construct malicious pickle data which will execute arbitrary code during unpickling (See https://github.com/pytorch/pytorch/blob/main/SECURITY.md#untrusted-models for more details). In a future release, the default value for `weights_only` will be flipped to `True`. This limits the functions that could be executed during unpickling. Arbitrary objects will no longer be allowed to be loaded via this mode unless they are explicitly allowlisted by the user via `torch.serialization.add_safe_globals`. We recommend you start setting `weights_only=True` for any use case where you don't have full control of the loaded file. Please open an issue on GitHub for any issues related to this experimental feature.\n",
            "  return torch.load(checkpoint_file, map_location=torch.device(\"cpu\"))\n"
          ]
        }
      ],
      "source": [
        "import vptq\n",
        "import transformers\n",
        "import torch\n",
        "\n",
        "tokenizer = transformers.AutoTokenizer.from_pretrained(\"VPTQ-community/Qwen2.5-7B-Instruct-v8-k65536-0-woft\")\n",
        "m = vptq.AutoModelForCausalLM.from_pretrained(\"VPTQ-community/Qwen2.5-7B-Instruct-v8-k65536-0-woft\", device_map='auto', dtype=torch.half)\n",
        "\n"
      ]
    },
    {
      "cell_type": "markdown",
      "source": [
        "## Inference example with text generation"
      ],
      "metadata": {
        "id": "8tGG2cdp5Rzt"
      }
    },
    {
      "cell_type": "code",
      "execution_count": 9,
      "metadata": {
        "colab": {
          "base_uri": "https://localhost:8080/"
        },
        "id": "zmvIFTXLtp8b",
        "outputId": "01597879-a081-4289-98db-07744fe9514b"
      },
      "outputs": [
        {
          "output_type": "stream",
          "name": "stdout",
          "text": [
            "Explain: Do Not Go Gentle into That Good Night\n",
            "\n",
            "The poem “Do Not Go Gentle into That Good Night” by Dylan Thomas is a poem about death. The poem is written in the form of a sonnet, and it is written in the form of a monologue. The poem is written in the form of a monologue, and it is written in the form of a sonnet. The poem is written in the form of a sonnet, and it is written in the form of a monologue. The poem is written in the\n"
          ]
        }
      ],
      "source": [
        "inputs = tokenizer(\"Explain: Do Not Go Gentle into That Good Night\", return_tensors=\"pt\").to(\"cuda\")\n",
        "out = m.generate(**inputs, max_new_tokens=100, pad_token_id=2)\n",
        "print(tokenizer.decode(out[0], skip_special_tokens=True))"
      ]
    },
    {
      "cell_type": "markdown",
      "source": [
        "## Measure token generation Speed"
      ],
      "metadata": {
        "id": "wAxK5x8v5cyw"
      }
    },
    {
      "cell_type": "code",
      "execution_count": 11,
      "metadata": {
        "id": "dJyiSorVsEId",
        "colab": {
          "base_uri": "https://localhost:8080/"
        },
        "outputId": "9f37c2a5-1fa8-4752-fb0d-4ef9ef9fa4f7"
      },
      "outputs": [
        {
          "output_type": "stream",
          "name": "stdout",
          "text": [
            "CPU times: user 1.26 s, sys: 15.6 ms, total: 1.28 s\n",
            "Wall time: 1.27 s\n"
          ]
        }
      ],
      "source": [
        "%%time\n",
        "inputs = tokenizer(\"hello \", return_tensors=\"pt\").to(\"cuda\")\n",
        "out = m.generate(**inputs, max_new_tokens=10, pad_token_id=2)"
      ]
    },
    {
      "cell_type": "markdown",
      "source": [
        "## Generate token in streaming mode"
      ],
      "metadata": {
        "id": "Zh4vgbkL8fBx"
      }
    },
    {
      "cell_type": "code",
      "source": [
        "inputs = tokenizer(\"share me a story,\", return_tensors=\"pt\").to(\"cuda\")\n",
        "\n",
        "streamer = transformers.TextStreamer(tokenizer)\n",
        "_ = m.generate(**inputs, streamer=streamer, max_new_tokens=60,pad_token_id=tokenizer.eos_token_id)"
      ],
      "metadata": {
        "colab": {
          "base_uri": "https://localhost:8080/"
        },
        "id": "ea9zSTeq5sB2",
        "outputId": "67eb4e3e-1502-4ae4-981c-718092c6bfe9"
      },
      "execution_count": 21,
      "outputs": [
        {
          "output_type": "stream",
          "name": "stdout",
          "text": [
            "share me a story, please\n",
            "Certainly! Here's a short story for you:\n",
            "\n",
            "### The Forgotten Garden\n",
            "\n",
            "In the heart of a bustling city, there was a small, forgotten garden hidden behind a row of tall buildings. It was a place where the city's residents often forgot to visit, but it was a sanctuary for\n"
          ]
        }
      ]
    },
    {
      "cell_type": "code",
      "source": [],
      "metadata": {
        "id": "54KJpMVB8pL2"
      },
      "execution_count": null,
      "outputs": []
    }
  ],
  "metadata": {
    "accelerator": "GPU",
    "colab": {
      "gpuType": "T4",
      "provenance": []
    },
    "kernelspec": {
      "display_name": "Python 3",
      "name": "python3"
    },
    "language_info": {
      "name": "python"
    },
    "widgets": {
      "application/vnd.jupyter.widget-state+json": {
        "b19fd7475a9a4ff78387e55e102d70d7": {
          "model_module": "@jupyter-widgets/controls",
          "model_name": "HBoxModel",
          "model_module_version": "1.5.0",
          "state": {
            "_dom_classes": [],
            "_model_module": "@jupyter-widgets/controls",
            "_model_module_version": "1.5.0",
            "_model_name": "HBoxModel",
            "_view_count": null,
            "_view_module": "@jupyter-widgets/controls",
            "_view_module_version": "1.5.0",
            "_view_name": "HBoxView",
            "box_style": "",
            "children": [
              "IPY_MODEL_9983dd28235948808ea7f893a8dd8e38",
              "IPY_MODEL_81458c21349d4ec4b78cd4bd77d81010",
              "IPY_MODEL_1f9811fac71a43ff97fd6fa5a751ff55"
            ],
            "layout": "IPY_MODEL_f1549ea8ee0649c899568a4a364762ba"
          }
        },
        "9983dd28235948808ea7f893a8dd8e38": {
          "model_module": "@jupyter-widgets/controls",
          "model_name": "HTMLModel",
          "model_module_version": "1.5.0",
          "state": {
            "_dom_classes": [],
            "_model_module": "@jupyter-widgets/controls",
            "_model_module_version": "1.5.0",
            "_model_name": "HTMLModel",
            "_view_count": null,
            "_view_module": "@jupyter-widgets/controls",
            "_view_module_version": "1.5.0",
            "_view_name": "HTMLView",
            "description": "",
            "description_tooltip": null,
            "layout": "IPY_MODEL_2acf41455ccc4ab6ac1ef310976b2eff",
            "placeholder": "​",
            "style": "IPY_MODEL_014f974a068a41e2a8ee4efa6574ce01",
            "value": "Fetching 11 files: 100%"
          }
        },
        "81458c21349d4ec4b78cd4bd77d81010": {
          "model_module": "@jupyter-widgets/controls",
          "model_name": "FloatProgressModel",
          "model_module_version": "1.5.0",
          "state": {
            "_dom_classes": [],
            "_model_module": "@jupyter-widgets/controls",
            "_model_module_version": "1.5.0",
            "_model_name": "FloatProgressModel",
            "_view_count": null,
            "_view_module": "@jupyter-widgets/controls",
            "_view_module_version": "1.5.0",
            "_view_name": "ProgressView",
            "bar_style": "success",
            "description": "",
            "description_tooltip": null,
            "layout": "IPY_MODEL_f7d3edf25e844d51b993ef3eb3f95b1d",
            "max": 11,
            "min": 0,
            "orientation": "horizontal",
            "style": "IPY_MODEL_cdd40ba6109a401592f1c3df004908b6",
            "value": 11
          }
        },
        "1f9811fac71a43ff97fd6fa5a751ff55": {
          "model_module": "@jupyter-widgets/controls",
          "model_name": "HTMLModel",
          "model_module_version": "1.5.0",
          "state": {
            "_dom_classes": [],
            "_model_module": "@jupyter-widgets/controls",
            "_model_module_version": "1.5.0",
            "_model_name": "HTMLModel",
            "_view_count": null,
            "_view_module": "@jupyter-widgets/controls",
            "_view_module_version": "1.5.0",
            "_view_name": "HTMLView",
            "description": "",
            "description_tooltip": null,
            "layout": "IPY_MODEL_ba602363b88f45ffb302a6cc5da0b57d",
            "placeholder": "​",
            "style": "IPY_MODEL_27e99e0950e949c186656def4d1a6f6f",
            "value": " 11/11 [00:00&lt;00:00, 292.30it/s]"
          }
        },
        "f1549ea8ee0649c899568a4a364762ba": {
          "model_module": "@jupyter-widgets/base",
          "model_name": "LayoutModel",
          "model_module_version": "1.2.0",
          "state": {
            "_model_module": "@jupyter-widgets/base",
            "_model_module_version": "1.2.0",
            "_model_name": "LayoutModel",
            "_view_count": null,
            "_view_module": "@jupyter-widgets/base",
            "_view_module_version": "1.2.0",
            "_view_name": "LayoutView",
            "align_content": null,
            "align_items": null,
            "align_self": null,
            "border": null,
            "bottom": null,
            "display": null,
            "flex": null,
            "flex_flow": null,
            "grid_area": null,
            "grid_auto_columns": null,
            "grid_auto_flow": null,
            "grid_auto_rows": null,
            "grid_column": null,
            "grid_gap": null,
            "grid_row": null,
            "grid_template_areas": null,
            "grid_template_columns": null,
            "grid_template_rows": null,
            "height": null,
            "justify_content": null,
            "justify_items": null,
            "left": null,
            "margin": null,
            "max_height": null,
            "max_width": null,
            "min_height": null,
            "min_width": null,
            "object_fit": null,
            "object_position": null,
            "order": null,
            "overflow": null,
            "overflow_x": null,
            "overflow_y": null,
            "padding": null,
            "right": null,
            "top": null,
            "visibility": null,
            "width": null
          }
        },
        "2acf41455ccc4ab6ac1ef310976b2eff": {
          "model_module": "@jupyter-widgets/base",
          "model_name": "LayoutModel",
          "model_module_version": "1.2.0",
          "state": {
            "_model_module": "@jupyter-widgets/base",
            "_model_module_version": "1.2.0",
            "_model_name": "LayoutModel",
            "_view_count": null,
            "_view_module": "@jupyter-widgets/base",
            "_view_module_version": "1.2.0",
            "_view_name": "LayoutView",
            "align_content": null,
            "align_items": null,
            "align_self": null,
            "border": null,
            "bottom": null,
            "display": null,
            "flex": null,
            "flex_flow": null,
            "grid_area": null,
            "grid_auto_columns": null,
            "grid_auto_flow": null,
            "grid_auto_rows": null,
            "grid_column": null,
            "grid_gap": null,
            "grid_row": null,
            "grid_template_areas": null,
            "grid_template_columns": null,
            "grid_template_rows": null,
            "height": null,
            "justify_content": null,
            "justify_items": null,
            "left": null,
            "margin": null,
            "max_height": null,
            "max_width": null,
            "min_height": null,
            "min_width": null,
            "object_fit": null,
            "object_position": null,
            "order": null,
            "overflow": null,
            "overflow_x": null,
            "overflow_y": null,
            "padding": null,
            "right": null,
            "top": null,
            "visibility": null,
            "width": null
          }
        },
        "014f974a068a41e2a8ee4efa6574ce01": {
          "model_module": "@jupyter-widgets/controls",
          "model_name": "DescriptionStyleModel",
          "model_module_version": "1.5.0",
          "state": {
            "_model_module": "@jupyter-widgets/controls",
            "_model_module_version": "1.5.0",
            "_model_name": "DescriptionStyleModel",
            "_view_count": null,
            "_view_module": "@jupyter-widgets/base",
            "_view_module_version": "1.2.0",
            "_view_name": "StyleView",
            "description_width": ""
          }
        },
        "f7d3edf25e844d51b993ef3eb3f95b1d": {
          "model_module": "@jupyter-widgets/base",
          "model_name": "LayoutModel",
          "model_module_version": "1.2.0",
          "state": {
            "_model_module": "@jupyter-widgets/base",
            "_model_module_version": "1.2.0",
            "_model_name": "LayoutModel",
            "_view_count": null,
            "_view_module": "@jupyter-widgets/base",
            "_view_module_version": "1.2.0",
            "_view_name": "LayoutView",
            "align_content": null,
            "align_items": null,
            "align_self": null,
            "border": null,
            "bottom": null,
            "display": null,
            "flex": null,
            "flex_flow": null,
            "grid_area": null,
            "grid_auto_columns": null,
            "grid_auto_flow": null,
            "grid_auto_rows": null,
            "grid_column": null,
            "grid_gap": null,
            "grid_row": null,
            "grid_template_areas": null,
            "grid_template_columns": null,
            "grid_template_rows": null,
            "height": null,
            "justify_content": null,
            "justify_items": null,
            "left": null,
            "margin": null,
            "max_height": null,
            "max_width": null,
            "min_height": null,
            "min_width": null,
            "object_fit": null,
            "object_position": null,
            "order": null,
            "overflow": null,
            "overflow_x": null,
            "overflow_y": null,
            "padding": null,
            "right": null,
            "top": null,
            "visibility": null,
            "width": null
          }
        },
        "cdd40ba6109a401592f1c3df004908b6": {
          "model_module": "@jupyter-widgets/controls",
          "model_name": "ProgressStyleModel",
          "model_module_version": "1.5.0",
          "state": {
            "_model_module": "@jupyter-widgets/controls",
            "_model_module_version": "1.5.0",
            "_model_name": "ProgressStyleModel",
            "_view_count": null,
            "_view_module": "@jupyter-widgets/base",
            "_view_module_version": "1.2.0",
            "_view_name": "StyleView",
            "bar_color": null,
            "description_width": ""
          }
        },
        "ba602363b88f45ffb302a6cc5da0b57d": {
          "model_module": "@jupyter-widgets/base",
          "model_name": "LayoutModel",
          "model_module_version": "1.2.0",
          "state": {
            "_model_module": "@jupyter-widgets/base",
            "_model_module_version": "1.2.0",
            "_model_name": "LayoutModel",
            "_view_count": null,
            "_view_module": "@jupyter-widgets/base",
            "_view_module_version": "1.2.0",
            "_view_name": "LayoutView",
            "align_content": null,
            "align_items": null,
            "align_self": null,
            "border": null,
            "bottom": null,
            "display": null,
            "flex": null,
            "flex_flow": null,
            "grid_area": null,
            "grid_auto_columns": null,
            "grid_auto_flow": null,
            "grid_auto_rows": null,
            "grid_column": null,
            "grid_gap": null,
            "grid_row": null,
            "grid_template_areas": null,
            "grid_template_columns": null,
            "grid_template_rows": null,
            "height": null,
            "justify_content": null,
            "justify_items": null,
            "left": null,
            "margin": null,
            "max_height": null,
            "max_width": null,
            "min_height": null,
            "min_width": null,
            "object_fit": null,
            "object_position": null,
            "order": null,
            "overflow": null,
            "overflow_x": null,
            "overflow_y": null,
            "padding": null,
            "right": null,
            "top": null,
            "visibility": null,
            "width": null
          }
        },
        "27e99e0950e949c186656def4d1a6f6f": {
          "model_module": "@jupyter-widgets/controls",
          "model_name": "DescriptionStyleModel",
          "model_module_version": "1.5.0",
          "state": {
            "_model_module": "@jupyter-widgets/controls",
            "_model_module_version": "1.5.0",
            "_model_name": "DescriptionStyleModel",
            "_view_count": null,
            "_view_module": "@jupyter-widgets/base",
            "_view_module_version": "1.2.0",
            "_view_name": "StyleView",
            "description_width": ""
          }
        }
      }
    }
  },
  "nbformat": 4,
  "nbformat_minor": 0
}