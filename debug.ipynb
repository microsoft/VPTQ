{
 "cells": [
  {
   "cell_type": "code",
   "execution_count": 10,
   "metadata": {},
   "outputs": [],
   "source": [
    "import torch\n",
    "model = torch.load('/home/aiscuser/yangwang/dev-VPTQ/outputs/Meta-Llama-3.1-8B-Instruct/2024-10-26-22-27-13/qmodel.pt')\n"
   ]
  },
  {
   "cell_type": "code",
   "execution_count": 12,
   "metadata": {},
   "outputs": [
    {
     "name": "stdout",
     "output_type": "stream",
     "text": [
      "torch.Size([1, 1024])\n",
      "torch.Size([1, 1024, 4096])\n",
      "VQuantLinear(\n",
      "  (centroids): Embedding(1, 1024)\n",
      ")\n",
      "torch.int64\n",
      "perm torch.Size([4096])\n",
      "indices torch.Size([1, 1024, 4096])\n",
      "centroids.weight torch.Size([1, 1024])\n"
     ]
    },
    {
     "ename": "IndexError",
     "evalue": "index 12367 is out of bounds for dimension 0 with size 4096",
     "output_type": "error",
     "traceback": [
      "\u001b[0;31m---------------------------------------------------------------------------\u001b[0m",
      "\u001b[0;31mIndexError\u001b[0m                                Traceback (most recent call last)",
      "Cell \u001b[0;32mIn[12], line 9\u001b[0m\n\u001b[1;32m      6\u001b[0m \u001b[38;5;28;01mfor\u001b[39;00m k, v \u001b[38;5;129;01min\u001b[39;00m model\u001b[38;5;241m.\u001b[39mmodel\u001b[38;5;241m.\u001b[39mlayers[\u001b[38;5;241m0\u001b[39m]\u001b[38;5;241m.\u001b[39mself_attn\u001b[38;5;241m.\u001b[39mq_proj\u001b[38;5;241m.\u001b[39mnamed_parameters():\n\u001b[1;32m      7\u001b[0m     \u001b[38;5;28mprint\u001b[39m(k, v\u001b[38;5;241m.\u001b[39mshape)\n\u001b[0;32m----> 9\u001b[0m dequant_weight \u001b[38;5;241m=\u001b[39m \u001b[43mmodel\u001b[49m\u001b[38;5;241;43m.\u001b[39;49m\u001b[43mmodel\u001b[49m\u001b[38;5;241;43m.\u001b[39;49m\u001b[43mlayers\u001b[49m\u001b[43m[\u001b[49m\u001b[38;5;241;43m0\u001b[39;49m\u001b[43m]\u001b[49m\u001b[38;5;241;43m.\u001b[39;49m\u001b[43mself_attn\u001b[49m\u001b[38;5;241;43m.\u001b[39;49m\u001b[43mq_proj\u001b[49m\u001b[38;5;241;43m.\u001b[39;49m\u001b[43mdequant\u001b[49m\u001b[43m(\u001b[49m\u001b[43m)\u001b[49m\n\u001b[1;32m     11\u001b[0m \u001b[38;5;28mprint\u001b[39m(\u001b[38;5;124mf\u001b[39m\u001b[38;5;124m'\u001b[39m\u001b[38;5;124mdequant_weight.shape: \u001b[39m\u001b[38;5;132;01m{\u001b[39;00mdequant_weight\u001b[38;5;241m.\u001b[39mshape\u001b[38;5;132;01m}\u001b[39;00m\u001b[38;5;124m'\u001b[39m)\n\u001b[1;32m     13\u001b[0m \u001b[38;5;28mprint\u001b[39m(model)\n",
      "File \u001b[0;32m~/yangwang/dev-VPTQ/vptq/layers/vqlinear.py:615\u001b[0m, in \u001b[0;36mVQuantLinear.dequant\u001b[0;34m(self)\u001b[0m\n\u001b[1;32m    612\u001b[0m         \u001b[38;5;28;01massert\u001b[39;00m \u001b[38;5;28;01mTrue\u001b[39;00m, \u001b[38;5;124m\"\u001b[39m\u001b[38;5;124mNot implemented\u001b[39m\u001b[38;5;124m\"\u001b[39m\n\u001b[1;32m    613\u001b[0m         \u001b[38;5;66;03m# qweight = qweight[invert_perm, :]\u001b[39;00m\n\u001b[1;32m    614\u001b[0m     \u001b[38;5;28;01melse\u001b[39;00m:\n\u001b[0;32m--> 615\u001b[0m         qweight \u001b[38;5;241m=\u001b[39m \u001b[43mqweight\u001b[49m\u001b[43m[\u001b[49m\u001b[43m:\u001b[49m\u001b[43m,\u001b[49m\u001b[43m \u001b[49m\u001b[43minvert_perm\u001b[49m\u001b[43m]\u001b[49m\n\u001b[1;32m    617\u001b[0m \u001b[38;5;28;01mif\u001b[39;00m \u001b[38;5;28mself\u001b[39m\u001b[38;5;241m.\u001b[39menable_norm:\n\u001b[1;32m    618\u001b[0m     qweight \u001b[38;5;241m=\u001b[39m qweight \u001b[38;5;241m*\u001b[39m \u001b[38;5;28mself\u001b[39m\u001b[38;5;241m.\u001b[39mweight_scale\n",
      "\u001b[0;31mIndexError\u001b[0m: index 12367 is out of bounds for dimension 0 with size 4096"
     ]
    }
   ],
   "source": [
    "print(model.model.layers[0].self_attn.q_proj.centroids.weight.shape)\n",
    "print(model.model.layers[0].self_attn.q_proj.indices.shape)\n",
    "print(model.model.layers[0].self_attn.q_proj)\n",
    "print(model.model.layers[0].self_attn.q_proj.perm.dtype)\n",
    "\n",
    "for k, v in model.model.layers[0].self_attn.q_proj.named_parameters():\n",
    "    print(k, v.shape)\n",
    "\n",
    "dequant_weight = model.model.layers[0].self_attn.q_proj.dequant()\n",
    "\n",
    "print(f'dequant_weight.shape: {dequant_weight.shape}')\n",
    "\n",
    "print(model)\n"
   ]
  }
 ],
 "metadata": {
  "kernelspec": {
   "display_name": "Python 3",
   "language": "python",
   "name": "python3"
  },
  "language_info": {
   "codemirror_mode": {
    "name": "ipython",
    "version": 3
   },
   "file_extension": ".py",
   "mimetype": "text/x-python",
   "name": "python",
   "nbconvert_exporter": "python",
   "pygments_lexer": "ipython3",
   "version": "3.10.15"
  }
 },
 "nbformat": 4,
 "nbformat_minor": 2
}
